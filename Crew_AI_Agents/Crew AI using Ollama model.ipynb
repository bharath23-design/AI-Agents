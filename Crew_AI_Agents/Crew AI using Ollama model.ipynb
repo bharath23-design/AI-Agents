{
 "cells": [
  {
   "cell_type": "code",
   "execution_count": 3,
   "metadata": {},
   "outputs": [],
   "source": [
    "# install the packages\n",
    "#pip install crewai crewai-tools\n",
    "# !pip install langchain-ollama\n",
    "# ollama run deepseek-r1:1.5b"
   ]
  },
  {
   "cell_type": "markdown",
   "metadata": {},
   "source": [
    "# Connecting to the ollama "
   ]
  },
  {
   "cell_type": "code",
   "execution_count": 1,
   "metadata": {},
   "outputs": [
    {
     "name": "stdout",
     "output_type": "stream",
     "text": [
      "first=ChatPromptTemplate(input_variables=['question'], input_types={}, partial_variables={}, messages=[HumanMessagePromptTemplate(prompt=PromptTemplate(input_variables=['question'], input_types={}, partial_variables={}, template=\"Question: {question}\\n\\nAnswer: Let's think step by step.\"), additional_kwargs={})]) middle=[] last=OllamaLLM(model='deepseek-r1:1.5b')\n"
     ]
    },
    {
     "data": {
      "text/plain": [
       "\"<think>\\nOkay, so I need to talk about AI agents as if I'm sharing this information with someone who might not be familiar with them. The user gave a detailed response, but now I have to imagine being an initial learner and figure out how to approach explaining it from scratch.\\n\\nFirst, what exactly are AI agents? From the response, they're systems designed to perform tasks that require human intelligence. So, I should start by defining them clearly. Maybe I'll mention that AI agents can be trained to think, learn, make decisions, and solve problems. It's important to note that these agents don't possess consciousness like humans do; their actions are based on data and algorithms.\\n\\nI should explain the different types of AI agents. There are reinforcement learning agents, which learn by interacting with an environment. Then there's supervised learning ones, where they're trained on examples. Unsupervised learning agents might operate without prior knowledge or feedback. Also, there are generative models that create new content, like images or text. Reinforcement and policy-based agents help the AI make decisions through rewards and policies.\\n\\nI think it would be good to mention common applications of AI agents. They can handle tasks from personal assistants like Siri or Alexa to more complex jobs such as playing video games, diagnosing medical conditions, or even generating creative content.\\n\\nIt's also worth discussing why AI agents are important. They help reduce reliance on human intelligence, enable advancements in various fields, and open up new possibilities in areas like healthcare, education, and creativity. Plus, they can assist with tasks that require critical thinking or problem-solving.\\n\\nI should make sure to structure the information clearly, maybe using headings for each section: What Are AI Agents?, Types of AI Agents, Common Applications, Importance of AI Agents, and a Conclusion.\\n\\nWait, should I include how much of this knowledge I've gained? Maybe mention that while I understand the basics, there's always more I could learn about specific areas or deeper aspects.\\n\\nI also need to make sure my language is simple and accessible. Avoiding too much jargon might help anyone who isn't deeply technical. Let me check each point again to ensure I cover all the key aspects without missing anything important.\\n</think>\\n\\nAI agents are systems designed to perform tasks that require human intelligence, operated through data and algorithms. Here's a structured overview:\\n\\n**What Are AI Agents?**\\n- Defined as systems that mimic human-like problem-solving and decision-making, capable of learning and acting independently.\\n\\n**Types of AI Agents:**\\n1. **Reinforcement Learning Agents:** Learn by interacting with an environment, improving decisions based on feedback.\\n2. **Supervised Learning Agents:** Trained on examples to make accurate predictions or classifications.\\n3. **Unsupervised Learning Agents:** Function without prior knowledge, operating through data patterns.\\n4. **Generative Models:** Create new content, such as images or text.\\n\\n**Common Applications:**\\n- Personal assistants (Siri, Alexa).\\n- Various AI tasks like video game playing and medical diagnosis.\\n\\n**Importance of AI Agents:**\\n- Reduces reliance on human intelligence, accelerating advancements across fields.\\n- Enhances creativity and problem-solving abilities through intelligent interaction.\\n\\n**Conclusion:**\\nAI agents are crucial for broad applications, offering solutions from personal help to complex tasks. Their role in reducing dependency on human intelligence is significant, fostering innovation and growth.\""
      ]
     },
     "execution_count": 1,
     "metadata": {},
     "output_type": "execute_result"
    }
   ],
   "source": [
    "from langchain_core.prompts import ChatPromptTemplate\n",
    "from langchain_ollama.llms import OllamaLLM\n",
    "\n",
    "template = \"\"\"Question: {question}\n",
    "\n",
    "Answer: Let's think step by step.\"\"\"\n",
    "\n",
    "prompt = ChatPromptTemplate.from_template(template)\n",
    "\n",
    "model = OllamaLLM(model=\"deepseek-r1:1.5b\")\n",
    "\n",
    "chain = prompt | model\n",
    "\n",
    "print(chain)\n",
    "chain.invoke({'question':\"Tell me About the Ai Agents\"})"
   ]
  },
  {
   "cell_type": "markdown",
   "metadata": {},
   "source": [
    "# Crew AI using ollama model deepseek"
   ]
  },
  {
   "cell_type": "code",
   "execution_count": 5,
   "metadata": {},
   "outputs": [
    {
     "name": "stdout",
     "output_type": "stream",
     "text": [
      "LLM value is already an LLM object\n"
     ]
    }
   ],
   "source": [
    "from crewai import Agent, Task, LLM, Crew\n",
    "\n",
    "# Define the agent\n",
    "agent = Agent(\n",
    "    role='Local AI Expert',\n",
    "    goal='Process information using a local model',\n",
    "    backstory=\"An AI assistant running on local hardware.\",\n",
    "    llm=LLM(model=\"ollama/deepseek-r1:1.5b\", base_url=\"http://localhost:11434\")\n",
    ")"
   ]
  },
  {
   "cell_type": "code",
   "execution_count": 6,
   "metadata": {},
   "outputs": [
    {
     "name": "stderr",
     "output_type": "stream",
     "text": [
      "Overriding of current TracerProvider is not allowed\n"
     ]
    },
    {
     "name": "stdout",
     "output_type": "stream",
     "text": [
      "id=UUID('cfb7e0bd-5bdb-4112-a295-81419edb12ff') formatting_errors=1 role='Local AI Expert' goal='Process information using a local model' backstory='An AI assistant running on local hardware.' config=None cache=True verbose=False max_rpm=None allow_delegation=False tools=[] max_iter=20 agent_executor=<crewai.agents.crew_agent_executor.CrewAgentExecutor object at 0x000001C7869A18D0> llm=<crewai.llm.LLM object at 0x000001C78C2DEA50> crew=Crew(id=bd4f4ec1-1b2f-49c4-bc27-e33c5fce3dd9, process=Process.sequential, number_of_agents=1, number_of_tasks=1) i18n=I18N(prompt_file=None) cache_handler=CacheHandler() tools_handler=<crewai.agents.tools_handler.ToolsHandler object at 0x000001C78EF44A10> max_tokens=None max_execution_time=None agent_ops_agent_name='Local AI Expert' agent_ops_agent_id=None step_callback=None use_system_prompt=True function_calling_llm=None system_template=None prompt_template=None response_template=None tools_results=[] allow_code_execution=False respect_context_window=True max_retry_limit=2 multimodal=False code_execution_mode='safe' embedder_config=None knowledge_sources=None\n",
      "Task result:\n",
      "The top 5 widely available large language models (LLMs) are BERT-base, GPT-3.5B, CLaSE, MATH, and Combiner. Here's a brief overview of each:\n",
      "\n",
      "1. **BERT-base**: A large open-domain LLM that excels in general text understanding, achieved state-of-the-art results across various NLP tasks.\n",
      "\n",
      "2. **GPT-3.5B**: Another high-performing model among transferable models, known for its efficiency in processing longer texts and handling a wide range of tasks.\n",
      "\n",
      "3. **CLaSE**: A model designed specifically for clinical text understanding, excels in healthcare-related tasks due to its contextualized approach.\n",
      "\n",
      "4. **MATH**: Specializes in mathematical reasoning, particularly suitable for formal education contexts and logical problem-solving.\n",
      "\n",
      "5. **Combiner**: Combines multiple LLMs to improve performance on specific tasks, offering flexibility and enhancing model capabilities through cross-verification.\n",
      "\n",
      "These models each cater to different needs, from general understanding to niche applications like healthcare and mathematics.\n"
     ]
    }
   ],
   "source": [
    "# Define a task for the agent\n",
    "task = Task(\n",
    "    description=\"Give me the list of Best LLM models that are widely availale and I want top 5 of them\",\n",
    "    expected_output=\"Provide the response as Mentioned in the task description\",\n",
    "    agent=agent\n",
    ")\n",
    "\n",
    "# Create a crew with the agent and task\n",
    "crew = Crew(\n",
    "    agents=[agent],\n",
    "    tasks=[task]\n",
    ")\n",
    "\n",
    "# Execute the task\n",
    "result = crew.kickoff()\n",
    "\n",
    "print(agent)\n",
    "print(\"Task result:\")\n",
    "print(result)"
   ]
  },
  {
   "cell_type": "markdown",
   "metadata": {},
   "source": [
    "CrewAI is an open-source AI platform designed for seamless collaboration and decision-making across multiple platforms. It excels in processing complex data, handling diverse languages, and delivering results at lightning speed."
   ]
  },
  {
   "cell_type": "code",
   "execution_count": null,
   "metadata": {},
   "outputs": [],
   "source": []
  }
 ],
 "metadata": {
  "kernelspec": {
   "display_name": "Python 3",
   "language": "python",
   "name": "python3"
  },
  "language_info": {
   "codemirror_mode": {
    "name": "ipython",
    "version": 3
   },
   "file_extension": ".py",
   "mimetype": "text/x-python",
   "name": "python",
   "nbconvert_exporter": "python",
   "pygments_lexer": "ipython3",
   "version": "3.11.9"
  }
 },
 "nbformat": 4,
 "nbformat_minor": 2
}
